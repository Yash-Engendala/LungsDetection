{
 "cells": [
  {
   "cell_type": "code",
   "execution_count": 3,
   "id": "539dd59e-f0f0-4778-a106-920b9537092e",
   "metadata": {},
   "outputs": [
    {
     "name": "stdout",
     "output_type": "stream",
     "text": [
      "Accuracy: 0.7636666666666667\n",
      "              precision    recall  f1-score   support\n",
      "\n",
      "    lung_scc       0.77      0.79      0.78      1037\n",
      "      lung_n       0.86      0.86      0.86       970\n",
      "    lung_aca       0.66      0.65      0.65       993\n",
      "\n",
      "    accuracy                           0.76      3000\n",
      "   macro avg       0.76      0.76      0.76      3000\n",
      "weighted avg       0.76      0.76      0.76      3000\n",
      "\n",
      "✅ SVM model saved as 'svm_model.pkl'\n"
     ]
    }
   ],
   "source": [
    "import os\n",
    "import cv2\n",
    "import numpy as np\n",
    "from skimage.feature import hog\n",
    "from sklearn.svm import SVC\n",
    "from sklearn.model_selection import train_test_split\n",
    "from sklearn.metrics import accuracy_score, classification_report\n",
    "from joblib import dump, Parallel, delayed\n",
    "\n",
    "# Define dataset path and categories\n",
    "dataset_path = \"lung_image_sets\"\n",
    "categories = [\"lung_scc\", \"lung_n\", \"lung_aca\"]\n",
    "\n",
    "X, y = [], []\n",
    "\n",
    "# Function to process a single image\n",
    "def process_image(img_path, label):\n",
    "    img = cv2.imread(img_path, cv2.IMREAD_GRAYSCALE)\n",
    "    if img is None:\n",
    "        return None, None\n",
    "    img = cv2.resize(img, (64, 64))\n",
    "    features, _ = hog(img, pixels_per_cell=(8, 8), cells_per_block=(2, 2), visualize=True)\n",
    "    return features, label\n",
    "\n",
    "# Load and process all images using parallel processing\n",
    "results = Parallel(n_jobs=-1)(\n",
    "    delayed(process_image)(os.path.join(dataset_path, cat, fname), label)\n",
    "    for label, cat in enumerate(categories)\n",
    "    for fname in os.listdir(os.path.join(dataset_path, cat))\n",
    ")\n",
    "\n",
    "# Filter out failed loads\n",
    "X, y = zip(*[r for r in results if r[0] is not None])\n",
    "X = np.array(X)\n",
    "y = np.array(y)\n",
    "\n",
    "# Split dataset\n",
    "X_train, X_test, y_train, y_test = train_test_split(X, y, test_size=0.2, random_state=42)\n",
    "\n",
    "# Train SVM model\n",
    "svm_model = SVC(kernel='linear')\n",
    "svm_model.fit(X_train, y_train)\n",
    "\n",
    "# Evaluate model\n",
    "y_pred = svm_model.predict(X_test)\n",
    "print(\"Accuracy:\", accuracy_score(y_test, y_pred))\n",
    "print(classification_report(y_test, y_pred, target_names=categories))\n",
    "\n",
    "# Save model as .pkl\n",
    "dump(svm_model, \"svm_model.pkl\")\n",
    "print(\"✅ SVM model saved as 'svm_model.pkl'\")\n"
   ]
  },
  {
   "cell_type": "code",
   "execution_count": null,
   "id": "59671f42-45bd-439a-8d29-f7fad4f4aab0",
   "metadata": {},
   "outputs": [],
   "source": []
  }
 ],
 "metadata": {
  "kernelspec": {
   "display_name": "Python 3 (ipykernel)",
   "language": "python",
   "name": "python3"
  },
  "language_info": {
   "codemirror_mode": {
    "name": "ipython",
    "version": 3
   },
   "file_extension": ".py",
   "mimetype": "text/x-python",
   "name": "python",
   "nbconvert_exporter": "python",
   "pygments_lexer": "ipython3",
   "version": "3.12.7"
  }
 },
 "nbformat": 4,
 "nbformat_minor": 5
}
